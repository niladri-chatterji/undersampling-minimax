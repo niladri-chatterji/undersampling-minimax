{
 "cells": [
  {
   "cell_type": "code",
   "execution_count": 1,
   "id": "205ae548",
   "metadata": {},
   "outputs": [],
   "source": [
    "import numpy as np\n",
    "import math\n",
    "import matplotlib as mpl\n",
    "\n",
    "import seaborn as sns\n",
    "sns.set_palette(\"muted\")\n",
    "import matplotlib.pyplot as plt\n",
    "import math\n",
    "%matplotlib inline"
   ]
  },
  {
   "cell_type": "code",
   "execution_count": 2,
   "id": "34d0302a",
   "metadata": {},
   "outputs": [],
   "source": [
    "K = 4"
   ]
  },
  {
   "cell_type": "code",
   "execution_count": 3,
   "id": "f7b2d89b",
   "metadata": {},
   "outputs": [],
   "source": [
    "x = np.linspace(-0.2,0.2,num=1000)\n",
    "y = np.zeros_like(x)"
   ]
  },
  {
   "cell_type": "code",
   "execution_count": 4,
   "id": "818937a7",
   "metadata": {},
   "outputs": [],
   "source": [
    "for i in range(len(x)):\n",
    "    if x[i] < -1/(2*K):\n",
    "        y[i] = 0\n",
    "    elif x[i] < 0 and x[i] >= -1/(2*K):\n",
    "        y[i] = np.abs(x[i]+1/(4*K))-1/(4*K)\n",
    "    elif x[i] > 0 and x[i] <= 1/(2*K):\n",
    "        y[i] = 1/(4*K)-np.abs(x[i]-1/(4*K))"
   ]
  },
  {
   "cell_type": "code",
   "execution_count": 8,
   "id": "728a876d",
   "metadata": {},
   "outputs": [
    {
     "data": {
      "image/png": "[encoded data removed]",
      "text/plain": [
       "<Figure size 432x288 with 1 Axes>"
      ]
     },
     "metadata": {
      "needs_background": "light"
     },
     "output_type": "display_data"
    }
   ],
   "source": [
    "plt.rc('text', usetex=True)\n",
    "plt.rc('font', family='times')\n",
    "#palette = ['#E24A33', '#348ABD', '#988ED5', '#777777', '#FBC15E', '#8EBA42', '#FFB5B8']\n",
    "#sns.set_palette(palette)\n",
    "\n",
    "#fig, axes = plt.subplots(figsize=(12, 12), nrows=1, ncols=1)\n",
    "plt.plot(x,y,linewidth=3)\n",
    "plt.title('Hat Function ($\\phi_4$)', size = 20)\n",
    "plt.xticks(fontsize=12)\n",
    "plt.yticks(fontsize=12)\n",
    "plt.locator_params(nbins=5)\n",
    "plt.savefig('hat_function.pdf',format='pdf')\n",
    "plt.show()"
   ]
  },
  {
   "cell_type": "code",
   "execution_count": null,
   "id": "85c1e5cf",
   "metadata": {},
   "outputs": [],
   "source": []
  },
  {
   "cell_type": "code",
   "execution_count": null,
   "id": "49b15b04",
   "metadata": {},
   "outputs": [],
   "source": []
  }
 ],
 "metadata": {
  "kernelspec": {
   "display_name": "Python 3 (ipykernel)",
   "language": "python",
   "name": "python3"
  },
  "language_info": {
   "codemirror_mode": {
    "name": "ipython",
    "version": 3
   },
   "file_extension": ".py",
   "mimetype": "text/x-python",
   "name": "python",
   "nbconvert_exporter": "python",
   "pygments_lexer": "ipython3",
   "version": "3.7.4"
  }
 },
 "nbformat": 4,
 "nbformat_minor": 5
}
